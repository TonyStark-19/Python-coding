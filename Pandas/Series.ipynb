{
 "cells": [
  {
   "cell_type": "markdown",
   "id": "83c189be-921c-4719-877c-a31d2adc2d9b",
   "metadata": {},
   "source": [
    "### Series in Pandas"
   ]
  },
  {
   "cell_type": "code",
   "execution_count": 1,
   "id": "98f84a2f-4cfc-4a9b-88d9-ad6c7c076823",
   "metadata": {},
   "outputs": [],
   "source": [
    "# import libraries\n",
    "import pandas as pd\n",
    "import numpy as np"
   ]
  },
  {
   "cell_type": "code",
   "execution_count": 2,
   "id": "dba8a594-ff12-493f-aa62-8f9e5f7bc354",
   "metadata": {},
   "outputs": [
    {
     "data": {
      "text/plain": [
       "0    10\n",
       "1    20\n",
       "2    30\n",
       "dtype: int64"
      ]
     },
     "execution_count": 2,
     "metadata": {},
     "output_type": "execute_result"
    }
   ],
   "source": [
    "# create series from list\n",
    "pd.Series([10, 20, 30])"
   ]
  },
  {
   "cell_type": "code",
   "execution_count": 6,
   "id": "befc276e-0507-4fe8-998c-b635a6ca485f",
   "metadata": {},
   "outputs": [
    {
     "data": {
      "text/plain": [
       "a    1\n",
       "b    2\n",
       "c    3\n",
       "dtype: int64"
      ]
     },
     "execution_count": 6,
     "metadata": {},
     "output_type": "execute_result"
    }
   ],
   "source": [
    "# series with custom index\n",
    "s2 = pd.Series([1, 2, 3], index=[\"a\", \"b\", \"c\"])\n",
    "s2"
   ]
  },
  {
   "cell_type": "code",
   "execution_count": 9,
   "id": "c527c37e-5b7c-4283-87fe-9507173a0ca7",
   "metadata": {},
   "outputs": [
    {
     "data": {
      "text/plain": [
       "x    100\n",
       "y    200\n",
       "z    300\n",
       "dtype: int64"
      ]
     },
     "execution_count": 9,
     "metadata": {},
     "output_type": "execute_result"
    }
   ],
   "source": [
    "# series using dictionary\n",
    "s3 = pd.Series({\"x\": 100, \"y\": 200, \"z\": 300})\n",
    "s3"
   ]
  },
  {
   "cell_type": "code",
   "execution_count": 10,
   "id": "7d74a202-c490-49e2-bea0-4545b3fb3d7b",
   "metadata": {},
   "outputs": [
    {
     "data": {
      "text/plain": [
       "a    1\n",
       "c    3\n",
       "dtype: int64"
      ]
     },
     "execution_count": 10,
     "metadata": {},
     "output_type": "execute_result"
    }
   ],
   "source": [
    "# temporary deletion\n",
    "s2.drop([\"b\"], inplace=False)"
   ]
  },
  {
   "cell_type": "code",
   "execution_count": 11,
   "id": "f8e7812e-bf4b-48a3-b9f3-c65ffdee24ba",
   "metadata": {},
   "outputs": [],
   "source": [
    "# permanent deletion\n",
    "s3.drop([\"y\"], inplace=True)   "
   ]
  },
  {
   "cell_type": "code",
   "execution_count": 12,
   "id": "3c6b1e48-7b83-4048-9a90-6e4d1ee8ed83",
   "metadata": {},
   "outputs": [
    {
     "data": {
      "text/plain": [
       "x    100\n",
       "z    300\n",
       "dtype: int64"
      ]
     },
     "execution_count": 12,
     "metadata": {},
     "output_type": "execute_result"
    }
   ],
   "source": [
    "s3"
   ]
  },
  {
   "cell_type": "code",
   "execution_count": 13,
   "id": "6c33a22a-9306-4d3e-a4fd-72137b9ace5d",
   "metadata": {},
   "outputs": [],
   "source": [
    "# conditional selection\n",
    "a = pd.Series([5, 9, 12, 3])"
   ]
  },
  {
   "cell_type": "code",
   "execution_count": 14,
   "id": "86aadf21-576e-48d2-8101-913d992a6ab8",
   "metadata": {},
   "outputs": [
    {
     "data": {
      "text/plain": [
       "1     9\n",
       "2    12\n",
       "dtype: int64"
      ]
     },
     "execution_count": 14,
     "metadata": {},
     "output_type": "execute_result"
    }
   ],
   "source": [
    "# filter values greater than 8\n",
    "a[a > 8]"
   ]
  },
  {
   "cell_type": "code",
   "execution_count": 15,
   "id": "8288081a-a099-4487-9297-fc388901c32c",
   "metadata": {},
   "outputs": [
    {
     "data": {
      "text/plain": [
       "Index([1, 2], dtype='int64')"
      ]
     },
     "execution_count": 15,
     "metadata": {},
     "output_type": "execute_result"
    }
   ],
   "source": [
    "# get index of above values\n",
    "a[a > 8].index"
   ]
  }
 ],
 "metadata": {
  "kernelspec": {
   "display_name": "Python 3 (ipykernel)",
   "language": "python",
   "name": "python3"
  },
  "language_info": {
   "codemirror_mode": {
    "name": "ipython",
    "version": 3
   },
   "file_extension": ".py",
   "mimetype": "text/x-python",
   "name": "python",
   "nbconvert_exporter": "python",
   "pygments_lexer": "ipython3",
   "version": "3.13.5"
  }
 },
 "nbformat": 4,
 "nbformat_minor": 5
}
