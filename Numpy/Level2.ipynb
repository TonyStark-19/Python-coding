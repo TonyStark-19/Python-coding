{
 "cells": [
  {
   "cell_type": "markdown",
   "id": "609fd46e-d99c-4129-b679-13bddb11a816",
   "metadata": {},
   "source": [
    "### Operations on numpy array"
   ]
  },
  {
   "cell_type": "code",
   "execution_count": 2,
   "id": "faa8ea1d-e057-4c57-840f-0fc9d1bac370",
   "metadata": {},
   "outputs": [],
   "source": [
    "# import numpy\n",
    "import numpy as np"
   ]
  },
  {
   "cell_type": "code",
   "execution_count": 3,
   "id": "026a20df-854c-4046-8931-f41ca0f6ab40",
   "metadata": {},
   "outputs": [
    {
     "data": {
      "text/plain": [
       "array([ 1,  2,  3,  4,  5,  6,  7,  8,  9, 10])"
      ]
     },
     "execution_count": 3,
     "metadata": {},
     "output_type": "execute_result"
    }
   ],
   "source": [
    "# create 1D array\n",
    "arr = np.array([1, 2, 3, 4, 5, 6, 7, 8, 9, 10])\n",
    "arr"
   ]
  },
  {
   "cell_type": "code",
   "execution_count": 4,
   "id": "d85df609-416b-4924-af60-a007c0db260a",
   "metadata": {},
   "outputs": [
    {
     "data": {
      "text/plain": [
       "array([3, 4, 5, 6, 7])"
      ]
     },
     "execution_count": 4,
     "metadata": {},
     "output_type": "execute_result"
    }
   ],
   "source": [
    "# Basic slicing\n",
    "arr[2:7]"
   ]
  },
  {
   "cell_type": "code",
   "execution_count": 5,
   "id": "d68ec2e8-fc77-4bb3-938e-57b96f3ddbc7",
   "metadata": {},
   "outputs": [
    {
     "data": {
      "text/plain": [
       "array([2, 4, 6, 8])"
      ]
     },
     "execution_count": 5,
     "metadata": {},
     "output_type": "execute_result"
    }
   ],
   "source": [
    "# with step\n",
    "arr[1:8:2]"
   ]
  },
  {
   "cell_type": "code",
   "execution_count": 6,
   "id": "02c72a49-fcf0-48d7-8cef-4c3ccfafffba",
   "metadata": {},
   "outputs": [
    {
     "data": {
      "text/plain": [
       "array([10,  8,  6])"
      ]
     },
     "execution_count": 6,
     "metadata": {},
     "output_type": "execute_result"
    }
   ],
   "source": [
    "# with negative indexing\n",
    "arr[-1:-7:-2]"
   ]
  },
  {
   "cell_type": "code",
   "execution_count": 7,
   "id": "0d21c8b6-bf63-46c2-9a78-09c9c4647273",
   "metadata": {},
   "outputs": [
    {
     "data": {
      "text/plain": [
       "array([[1, 2, 3],\n",
       "       [4, 5, 6],\n",
       "       [7, 8, 9]])"
      ]
     },
     "execution_count": 7,
     "metadata": {},
     "output_type": "execute_result"
    }
   ],
   "source": [
    "# create 2D array\n",
    "arr_2d = np.array([[1, 2, 3],\n",
    "                   [4, 5, 6],\n",
    "                   [7, 8, 9]])\n",
    "arr_2d"
   ]
  },
  {
   "cell_type": "code",
   "execution_count": 8,
   "id": "8f1e568a-e893-4826-9c8d-2c7a26237bc1",
   "metadata": {},
   "outputs": [
    {
     "data": {
      "text/plain": [
       "np.int64(6)"
      ]
     },
     "execution_count": 8,
     "metadata": {},
     "output_type": "execute_result"
    }
   ],
   "source": [
    "# specific element\n",
    "arr_2d[1, 2]"
   ]
  },
  {
   "cell_type": "code",
   "execution_count": 9,
   "id": "88f18c04-b306-4d39-b655-8fd8bbbae30b",
   "metadata": {},
   "outputs": [
    {
     "data": {
      "text/plain": [
       "array([4, 5, 6])"
      ]
     },
     "execution_count": 9,
     "metadata": {},
     "output_type": "execute_result"
    }
   ],
   "source": [
    "# entire row\n",
    "arr_2d[1]"
   ]
  },
  {
   "cell_type": "code",
   "execution_count": 10,
   "id": "98b88cd2-e71f-4f5e-b3e5-4439506e29b6",
   "metadata": {},
   "outputs": [
    {
     "data": {
      "text/plain": [
       "array([2, 5, 8])"
      ]
     },
     "execution_count": 10,
     "metadata": {},
     "output_type": "execute_result"
    }
   ],
   "source": [
    "# entire column\n",
    "arr_2d[:, 1]"
   ]
  },
  {
   "cell_type": "code",
   "execution_count": 11,
   "id": "df4f15c8-c730-43dc-b6fc-4d3da6c9b8fb",
   "metadata": {},
   "outputs": [
    {
     "data": {
      "text/plain": [
       "array([1, 1, 2, 3, 4, 5, 6, 9])"
      ]
     },
     "execution_count": 11,
     "metadata": {},
     "output_type": "execute_result"
    }
   ],
   "source": [
    "# sorting in 1D arrays\n",
    "unsorted = np.array([3, 1, 4, 1, 5, 9, 2, 6])\n",
    "np.sort(unsorted)"
   ]
  },
  {
   "cell_type": "code",
   "execution_count": 12,
   "id": "ecc828c5-873c-4102-9fb9-6d6176607bfb",
   "metadata": {},
   "outputs": [
    {
     "data": {
      "text/plain": [
       "array([[3, 1],\n",
       "       [1, 2],\n",
       "       [2, 3]])"
      ]
     },
     "execution_count": 12,
     "metadata": {},
     "output_type": "execute_result"
    }
   ],
   "source": [
    "# sorting in 2D array\n",
    "unsorted_2d = np.array([[3, 1], [1, 2], [2, 3]])\n",
    "unsorted_2d"
   ]
  },
  {
   "cell_type": "code",
   "execution_count": 13,
   "id": "4ded8e63-aaba-4a3a-bd12-887cd6db20af",
   "metadata": {},
   "outputs": [
    {
     "data": {
      "text/plain": [
       "array([[1, 3],\n",
       "       [1, 2],\n",
       "       [2, 3]])"
      ]
     },
     "execution_count": 13,
     "metadata": {},
     "output_type": "execute_result"
    }
   ],
   "source": [
    "# row wise\n",
    "np.sort(unsorted_2d, axis=1)"
   ]
  },
  {
   "cell_type": "code",
   "execution_count": 14,
   "id": "f89ddb10-6a92-48bc-86bc-8b42965f7e0b",
   "metadata": {},
   "outputs": [
    {
     "data": {
      "text/plain": [
       "array([[1, 1],\n",
       "       [2, 2],\n",
       "       [3, 3]])"
      ]
     },
     "execution_count": 14,
     "metadata": {},
     "output_type": "execute_result"
    }
   ],
   "source": [
    "# column-wise\n",
    "np.sort(unsorted_2d, axis=0)"
   ]
  },
  {
   "cell_type": "code",
   "execution_count": 15,
   "id": "7c5d8bf4-3e03-4a0e-a61a-ddb27c819baa",
   "metadata": {},
   "outputs": [
    {
     "data": {
      "text/plain": [
       "array([ 2,  4,  6,  8, 10])"
      ]
     },
     "execution_count": 15,
     "metadata": {},
     "output_type": "execute_result"
    }
   ],
   "source": [
    "# filter\n",
    "numbers = np.array([1, 2, 3, 4, 5, 6, 7, 8, 9, 10])\n",
    "# even numbers\n",
    "even = numbers[numbers % 2 == 0]\n",
    "even"
   ]
  },
  {
   "cell_type": "code",
   "execution_count": 16,
   "id": "8ee83c85-a677-45c6-a5f4-db8dc244e908",
   "metadata": {},
   "outputs": [
    {
     "data": {
      "text/plain": [
       "array([ 5,  6,  7,  8,  9, 10])"
      ]
     },
     "execution_count": 16,
     "metadata": {},
     "output_type": "execute_result"
    }
   ],
   "source": [
    "# filter with mask\n",
    "mask = numbers >= 5\n",
    "numbers[mask]"
   ]
  },
  {
   "cell_type": "code",
   "execution_count": 17,
   "id": "585de506-4e1c-4076-a1df-3b0e27d664af",
   "metadata": {},
   "outputs": [
    {
     "data": {
      "text/plain": [
       "array([ 6,  7,  8,  9, 10])"
      ]
     },
     "execution_count": 17,
     "metadata": {},
     "output_type": "execute_result"
    }
   ],
   "source": [
    "# using where\n",
    "where_result = np.where(numbers > 5)\n",
    "numbers[where_result]"
   ]
  },
  {
   "cell_type": "code",
   "execution_count": 18,
   "id": "e2a3a206-9f3d-4ffb-8977-a32b5e6f8e41",
   "metadata": {},
   "outputs": [
    {
     "data": {
      "text/plain": [
       "array([ 1,  2,  3,  4,  5, 12, 14, 16, 18, 20])"
      ]
     },
     "execution_count": 18,
     "metadata": {},
     "output_type": "execute_result"
    }
   ],
   "source": [
    "# using condition structure in where\n",
    "# condition, if yes then * 2 else print only\n",
    "condition_array = np.where(numbers > 5, numbers * 2, numbers)\n",
    "condition_array"
   ]
  },
  {
   "cell_type": "code",
   "execution_count": 19,
   "id": "687598f0-27d7-4a54-8e8f-745ab0f51ba0",
   "metadata": {},
   "outputs": [
    {
     "data": {
      "text/plain": [
       "array([1, 2, 3, 4, 5, 6])"
      ]
     },
     "execution_count": 19,
     "metadata": {},
     "output_type": "execute_result"
    }
   ],
   "source": [
    "# concatenation of arrays\n",
    "arr1 = np.array([1, 2, 3])\n",
    "arr2 = np.array([4, 5, 6])\n",
    "combined = np.concatenate((arr1, arr2))\n",
    "combined"
   ]
  },
  {
   "cell_type": "code",
   "execution_count": 20,
   "id": "2223cc40-dc2f-4d3d-9f81-4923c8b160d9",
   "metadata": {},
   "outputs": [
    {
     "data": {
      "text/plain": [
       "array([[1, 2],\n",
       "       [3, 4],\n",
       "       [5, 6]])"
      ]
     },
     "execution_count": 20,
     "metadata": {},
     "output_type": "execute_result"
    }
   ],
   "source": [
    "# adding values (row)\n",
    "original = np.array([[1, 2], [3, 4]])\n",
    "new_row = np.array([[5, 6]])\n",
    "np.vstack((original, new_row))"
   ]
  },
  {
   "cell_type": "code",
   "execution_count": 21,
   "id": "fb966605-4d0a-4435-92e9-397ed7b3f062",
   "metadata": {},
   "outputs": [
    {
     "data": {
      "text/plain": [
       "array([[1, 2, 7],\n",
       "       [3, 4, 8]])"
      ]
     },
     "execution_count": 21,
     "metadata": {},
     "output_type": "execute_result"
    }
   ],
   "source": [
    "# adding values (column)\n",
    "new_col = ([[7], [8]])\n",
    "np.hstack((original, new_col))"
   ]
  },
  {
   "cell_type": "code",
   "execution_count": 22,
   "id": "cc775fee-d4ed-48b6-9cd4-886be5b41258",
   "metadata": {},
   "outputs": [
    {
     "data": {
      "text/plain": [
       "array([1, 2, 4, 5])"
      ]
     },
     "execution_count": 22,
     "metadata": {},
     "output_type": "execute_result"
    }
   ],
   "source": [
    "# delete element from 1D\n",
    "arr = np.array([1, 2, 3, 4, 5])\n",
    "np.delete(arr, 2)"
   ]
  },
  {
   "cell_type": "code",
   "execution_count": 23,
   "id": "52c0d5aa-c0be-4be3-b73f-3441a11b861f",
   "metadata": {},
   "outputs": [
    {
     "data": {
      "text/plain": [
       "array([[1, 2],\n",
       "       [3, 4]])"
      ]
     },
     "execution_count": 23,
     "metadata": {},
     "output_type": "execute_result"
    }
   ],
   "source": [
    "# axis usage\n",
    "data = np.array([[1, 2], [3, 4]])\n",
    "data"
   ]
  },
  {
   "cell_type": "code",
   "execution_count": 24,
   "id": "81162799-0fa7-4f66-ad1c-bd67fa0eb7cc",
   "metadata": {},
   "outputs": [
    {
     "name": "stdout",
     "output_type": "stream",
     "text": [
      "Sum along axis 0 (columns): [4 6]\n",
      "Sum along axis 1 (rows): [3 7]\n"
     ]
    }
   ],
   "source": [
    "print(\"Sum along axis 0 (columns):\", data.sum(axis=0))\n",
    "print(\"Sum along axis 1 (rows):\", data.sum(axis=1))"
   ]
  },
  {
   "cell_type": "code",
   "execution_count": 25,
   "id": "4a5508dd-c90e-441c-a554-e1e71ad0ded0",
   "metadata": {},
   "outputs": [
    {
     "data": {
      "text/plain": [
       "array([[19, 22],\n",
       "       [43, 50]])"
      ]
     },
     "execution_count": 25,
     "metadata": {},
     "output_type": "execute_result"
    }
   ],
   "source": [
    "# matrix multiplication\n",
    "a = np.array([[1, 2], [3, 4]])\n",
    "b = np.array([[5, 6], [7, 8]])\n",
    "a @ b"
   ]
  },
  {
   "cell_type": "code",
   "execution_count": 26,
   "id": "f4651b93-f06c-4608-8b62-2827204be376",
   "metadata": {},
   "outputs": [
    {
     "data": {
      "text/plain": [
       "array([[1, 2],\n",
       "       [3, 4]])"
      ]
     },
     "execution_count": 26,
     "metadata": {},
     "output_type": "execute_result"
    }
   ],
   "source": [
    "a = np.array([[1, 2], [3, 4]])\n",
    "b = np.array([[5, 6], [7, 8]])\n",
    "a"
   ]
  },
  {
   "cell_type": "code",
   "execution_count": 27,
   "id": "99bd0423-5656-46c4-83aa-6821914482d4",
   "metadata": {},
   "outputs": [
    {
     "data": {
      "text/plain": [
       "array([[5, 6],\n",
       "       [7, 8]])"
      ]
     },
     "execution_count": 27,
     "metadata": {},
     "output_type": "execute_result"
    }
   ],
   "source": [
    "b"
   ]
  },
  {
   "cell_type": "code",
   "execution_count": 28,
   "id": "0446a662-4a60-419a-bec1-9e84d50faf25",
   "metadata": {},
   "outputs": [
    {
     "name": "stdout",
     "output_type": "stream",
     "text": [
      "Horizontal Stack:\n",
      " [[1 2 5 6]\n",
      " [3 4 7 8]]\n"
     ]
    }
   ],
   "source": [
    "# hstack\n",
    "print(\"Horizontal Stack:\\n\", np.hstack((a, b)))"
   ]
  },
  {
   "cell_type": "code",
   "execution_count": 29,
   "id": "c2988acf-7481-4d6c-a520-35f4bc52f12c",
   "metadata": {},
   "outputs": [
    {
     "name": "stdout",
     "output_type": "stream",
     "text": [
      "Vertical Stack:\n",
      " [[1 2]\n",
      " [3 4]\n",
      " [5 6]\n",
      " [7 8]]\n"
     ]
    }
   ],
   "source": [
    "# vstack\n",
    "print(\"Vertical Stack:\\n\", np.vstack((a, b)))"
   ]
  },
  {
   "cell_type": "code",
   "execution_count": 30,
   "id": "43aca8c4-81c4-4898-96ba-a93bd03af8f3",
   "metadata": {},
   "outputs": [
    {
     "name": "stdout",
     "output_type": "stream",
     "text": [
      "Stack (3D):\n",
      " [[[1 2]\n",
      "  [3 4]]\n",
      "\n",
      " [[5 6]\n",
      "  [7 8]]]\n"
     ]
    }
   ],
   "source": [
    "# stack\n",
    "print(\"Stack (3D):\\n\", np.stack((a, b)))"
   ]
  },
  {
   "cell_type": "code",
   "execution_count": 31,
   "id": "82ca6dbe-43a9-4e32-b8be-d7f826b264db",
   "metadata": {},
   "outputs": [
    {
     "data": {
      "text/plain": [
       "array([[ 0,  1,  2,  3],\n",
       "       [ 4,  5,  6,  7],\n",
       "       [ 8,  9, 10, 11],\n",
       "       [12, 13, 14, 15]])"
      ]
     },
     "execution_count": 31,
     "metadata": {},
     "output_type": "execute_result"
    }
   ],
   "source": [
    "arr = np.arange(16).reshape(4, 4)\n",
    "arr"
   ]
  },
  {
   "cell_type": "code",
   "execution_count": 32,
   "id": "82a30aa1-8391-41a0-92fe-a1728894d03a",
   "metadata": {},
   "outputs": [
    {
     "name": "stdout",
     "output_type": "stream",
     "text": [
      "Horizontal Split:\n"
     ]
    },
    {
     "data": {
      "text/plain": [
       "[array([[ 0,  1],\n",
       "        [ 4,  5],\n",
       "        [ 8,  9],\n",
       "        [12, 13]]),\n",
       " array([[ 2,  3],\n",
       "        [ 6,  7],\n",
       "        [10, 11],\n",
       "        [14, 15]])]"
      ]
     },
     "execution_count": 32,
     "metadata": {},
     "output_type": "execute_result"
    }
   ],
   "source": [
    "# hsplit\n",
    "print(\"Horizontal Split:\")\n",
    "np.hsplit(arr, 2)"
   ]
  },
  {
   "cell_type": "code",
   "execution_count": 33,
   "id": "928e2f2d-abbf-4d60-8cc1-60a5b25b1dd4",
   "metadata": {},
   "outputs": [
    {
     "name": "stdout",
     "output_type": "stream",
     "text": [
      "Vertical Split:\n"
     ]
    },
    {
     "data": {
      "text/plain": [
       "[array([[0, 1, 2, 3],\n",
       "        [4, 5, 6, 7]]),\n",
       " array([[ 8,  9, 10, 11],\n",
       "        [12, 13, 14, 15]])]"
      ]
     },
     "execution_count": 33,
     "metadata": {},
     "output_type": "execute_result"
    }
   ],
   "source": [
    "# vsplit\n",
    "print(\"Vertical Split:\")\n",
    "np.vsplit(arr, 2)"
   ]
  }
 ],
 "metadata": {
  "kernelspec": {
   "display_name": "Python 3 (ipykernel)",
   "language": "python",
   "name": "python3"
  },
  "language_info": {
   "codemirror_mode": {
    "name": "ipython",
    "version": 3
   },
   "file_extension": ".py",
   "mimetype": "text/x-python",
   "name": "python",
   "nbconvert_exporter": "python",
   "pygments_lexer": "ipython3",
   "version": "3.13.5"
  }
 },
 "nbformat": 4,
 "nbformat_minor": 5
}
